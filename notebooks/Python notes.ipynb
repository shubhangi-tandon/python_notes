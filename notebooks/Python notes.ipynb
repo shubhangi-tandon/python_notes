{
 "cells": [
  {
   "cell_type": "markdown",
   "metadata": {},
   "source": [
    "This notebook will be used to add frequently used Python concepts -> \n",
    "Have connected this from docs, tutorials and mistakes made during coding \n",
    "\n",
    "## Contents\n",
    "- Pandas to numpy\n",
    "- Zip (and unzip)\n",
    "- Loading image and image extensions using Python (and libs)\n",
    "- @classmethod\n",
    "\n",
    "## Todo\n",
    "- Dunder __ functions\n",
    "    - `__init__`\n",
    "    - `__get_item__`\n",
    "    - `__repr__`\n",
    "    - `__call__`\n",
    "    - `__getattr__`\n",
    "- Partial func (from iter tools)\n",
    "- Transform and Compose\n",
    "\n"
   ]
  },
  {
   "cell_type": "code",
   "execution_count": 20,
   "metadata": {},
   "outputs": [
    {
     "name": "stdout",
     "output_type": "stream",
     "text": [
      "    text  label\n",
      "0   aaaa      0\n",
      "1   bbbb      1\n",
      "2   cccc      1\n",
      "3   dddd      0\n",
      "4   eeee      0\n",
      "5  table      1\n",
      "[0 1 1 0 0 1]\n",
      "['aaaa' 'bbbb' 'cccc' 'dddd' 'eeee' 'table']\n"
     ]
    }
   ],
   "source": [
    "# Pandas Tips\n",
    "\n",
    "# to convert df to numpy\n",
    "\n",
    "import pandas as pd\n",
    "df = pd.read_csv(\"../data/sample_text_label.csv\")\n",
    "print(df)\n",
    "\n",
    "#convert to numpy but exclude index\n",
    "\n",
    "labels = df[\"label\"].to_numpy()\n",
    "text = df[\"text\"].to_numpy()\n",
    "print(labels)\n",
    "print(text)"
   ]
  },
  {
   "cell_type": "markdown",
   "metadata": {},
   "source": [
    "## Zip Function \n",
    "- Built-in function\n",
    "- defined as __zip(*iterables)__\n",
    "- input -> Iterables , output -> iterators \n",
    "- can combine zip with sort , sorted, dict\n",
    "- returns an iterator, yields tuples on demand and can be traversed once only\n",
    "\n",
    "### How to unzip ?\n",
    "- No unzip function provided\n",
    "- use zip with a unzip param * - unpacking operator\n",
    "- zip(*) "
   ]
  },
  {
   "cell_type": "code",
   "execution_count": 21,
   "metadata": {},
   "outputs": [
    {
     "name": "stdout",
     "output_type": "stream",
     "text": [
      "<zip object at 0x1147e7788>\n",
      "<class 'zip'>\n",
      "[(1, 'a'), (2, 'b'), (3, 'c')]\n",
      "<class 'list'>\n",
      "this will be empty\n",
      "[]\n",
      "<class 'tuple'>\n",
      "(1, 2, 3, 4)\n",
      "('a', 'b', 'c', 'd')\n"
     ]
    }
   ],
   "source": [
    "numbers = [1,2,3]\n",
    "letters = ['a','b','c']\n",
    "zipped = zip(numbers, letters)\n",
    "print(zipped)\n",
    "print(type(zipped))\n",
    "print(list(zipped))\n",
    "\n",
    "pairs = list(zipped)\n",
    "print(type(pairs))\n",
    "print (\"this will be empty\")\n",
    "print(pairs)\n",
    "\n",
    "pairs2 = [(1, 'a'), (2, 'b'), (3, 'c'), (4, 'd')]\n",
    "nums, letters = zip(*pairs2)\n",
    "print(type(nums))\n",
    "print(nums)\n",
    "print(letters)"
   ]
  },
  {
   "cell_type": "code",
   "execution_count": 39,
   "metadata": {},
   "outputs": [
    {
     "name": "stdout",
     "output_type": "stream",
     "text": [
      "We can use PosixPath to look at dir paths and have ls as a common command\n",
      "\n",
      "shortcut\n",
      "[PosixPath('/Users/shtandon/Public/tfr/python_notes/notebooks/Jupyter-notes.ipynb'), PosixPath('/Users/shtandon/Public/tfr/python_notes/notebooks/.ipynb_checkpoints'), PosixPath('/Users/shtandon/Public/tfr/python_notes/notebooks/Fast-text notes.ipynb'), PosixPath('/Users/shtandon/Public/tfr/python_notes/notebooks/Tensorflow notes.ipynb'), PosixPath('/Users/shtandon/Public/tfr/python_notes/notebooks/PyTorch and Huggingface Notes.ipynb'), PosixPath('/Users/shtandon/Public/tfr/python_notes/notebooks/Python notes.ipynb')]\n",
      "exapnded\n",
      "[PosixPath('/Users/shtandon/Public/tfr/python_notes/notebooks/Jupyter-notes.ipynb'), PosixPath('/Users/shtandon/Public/tfr/python_notes/notebooks/.ipynb_checkpoints'), PosixPath('/Users/shtandon/Public/tfr/python_notes/notebooks/Fast-text notes.ipynb'), PosixPath('/Users/shtandon/Public/tfr/python_notes/notebooks/Tensorflow notes.ipynb'), PosixPath('/Users/shtandon/Public/tfr/python_notes/notebooks/PyTorch and Huggingface Notes.ipynb'), PosixPath('/Users/shtandon/Public/tfr/python_notes/notebooks/Python notes.ipynb')]\n",
      "can be combined with os\n",
      "/Users/shtandon/Public/tfr/python_notes/notebooks\n",
      "/Users/shtandon/Public/tfr/python_notes\n",
      "/Users/shtandon/Public/tfr\n"
     ]
    }
   ],
   "source": [
    "print(\"We can use PosixPath to look at dir paths and have ls as a common command\\n\")\n",
    "import os\n",
    "from pathlib import Path\n",
    "Path.ls = lambda x: list(x.iterdir())\n",
    "path = Path(\"/Users/shtandon/Public/tfr/python_notes/notebooks/\")\n",
    "# shortcut\n",
    "print(\"shortcut\")\n",
    "print(path.ls())\n",
    "# expanded\n",
    "print(\"exapnded\")\n",
    "print([x for x in path.iterdir()])\n",
    "\n",
    "# can be used with os\n",
    "print(\"can be combined with os\")\n",
    "print(os.fspath(path))\n",
    "\n",
    "# we can also get directory of a file using parent\n",
    "print(path.parent)\n",
    "print(path.parent.parent)\n"
   ]
  },
  {
   "cell_type": "code",
   "execution_count": 41,
   "metadata": {},
   "outputs": [
    {
     "name": "stdout",
     "output_type": "stream",
     "text": [
      "Loading images - use PIL libraries\n"
     ]
    },
    {
     "data": {
      "text/plain": [
       "'here are all the image extensions ->  .ief .pnm .ico .jpe .ras .rgb .jpg .xpm .bmp .gif .tiff .xbm .ppm .tif .jpeg .svg .pgm .xwd .pbm .png'"
      ]
     },
     "execution_count": 41,
     "metadata": {},
     "output_type": "execute_result"
    }
   ],
   "source": [
    "print(\"Loading images - use PIL libraries\")\n",
    "import PIL\n",
    "from PIL import Image\n",
    "img_address = Path(\"../data/stock_image.jpg\")\n",
    "img = PIL.Image.open(img_address)\n",
    "img\n",
    "\"\"\"pillow displays Black and white and colored images differently. For BnW, it doesnt show the third channel so images can't be stacked against each\n",
    "other for a mini-batch . So we use a transform that converts the image to RGB\n",
    "\n",
    "\"\"\"\n",
    "img.convert('RGB')s\n",
    "image_extensions = set(k for k,v in mimetypes.types_map.items() if v.startswith('image/'))\n",
    "\"here are all the image extensions ->  ta\" + ' '.join(image_extensions)"
   ]
  },
  {
   "cell_type": "code",
   "execution_count": 28,
   "metadata": {},
   "outputs": [
    {
     "name": "stdout",
     "output_type": "stream",
     "text": [
      "27.6 µs ± 2.11 µs per loop (mean ± std. dev. of 7 runs, 10000 loops each)\n"
     ]
    }
   ],
   "source": [
    "# How to measure time of a function\n",
    "# use timeit\n",
    "\n",
    "%timeit os.scandir(\".\")"
   ]
  },
  {
   "cell_type": "code",
   "execution_count": 26,
   "metadata": {},
   "outputs": [],
   "source": [
    "# Reading directories in python\n",
    "# use os.scandir and os.walk  - much much faster than glob"
   ]
  },
  {
   "cell_type": "markdown",
   "metadata": {},
   "source": [
    "### Dunder functions in Python \n",
    "\n",
    "Dunder or magic methods in python are standard functions the have the structure `__func__` (Dunder = double under score)\n",
    "\n",
    "- `__init__` -> \n",
    "    - used for initialization, invoked without any call , when an instance of class is created \n",
    "    - Basically the constructor \n",
    "- `__repr__` ->\n",
    "    - reprsent the object whenever print is called \n",
    "    - difference between `__repr__` and `__str__` ?\n",
    "    - `__str__` is the readable format\n",
    "    - `__repr__` is the official formal\n",
    "    - Container's `__str__` uses contained objects' `__repr__`\n",
    "    - if `__repr__` is defined and `__str__` is not, the obhects behaves as though `__str__` == `__repr__`\n",
    "    - implement `__repr__` for any class and add `__str__`  if you think its sueful to have a string version\n",
    "- `__add__` ->\n",
    "    - override the method + \n",
    "- `__call__` ->\n",
    "    - make an object callable like a regular function\n",
    "    - \n"
   ]
  },
  {
   "cell_type": "code",
   "execution_count": 42,
   "metadata": {},
   "outputs": [
    {
     "name": "stdout",
     "output_type": "stream",
     "text": [
      "2020-05-21 17:27:31.753483\n",
      "2020-05-21 17:27:31.753483\n",
      "datetime.datetime(2020, 5, 21, 17, 27, 31, 753483)\n"
     ]
    }
   ],
   "source": [
    "import datetime \n",
    "today = datetime.datetime.now() \n",
    "print(today)\n",
    "print(str(today))\n",
    "print(repr(today))"
   ]
  },
  {
   "cell_type": "markdown",
   "metadata": {},
   "source": [
    "## @classmethod\n",
    "\n",
    "@classmethod is an annotation that is the equivalent of a static function (compared to Java)\n",
    "\n",
    "so for a classmethod, we don't pass self and don't need an instance to refer to the clas\n"
   ]
  },
  {
   "cell_type": "code",
   "execution_count": null,
   "metadata": {},
   "outputs": [],
   "source": []
  }
 ],
 "metadata": {
  "kernelspec": {
   "display_name": "tf_pytorch",
   "language": "python",
   "name": "tf_pytorch"
  },
  "language_info": {
   "codemirror_mode": {
    "name": "ipython",
    "version": 3
   },
   "file_extension": ".py",
   "mimetype": "text/x-python",
   "name": "python",
   "nbconvert_exporter": "python",
   "pygments_lexer": "ipython3",
   "version": "3.6.8"
  }
 },
 "nbformat": 4,
 "nbformat_minor": 4
}
